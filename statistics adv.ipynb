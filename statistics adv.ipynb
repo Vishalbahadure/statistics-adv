{
 "cells": [
  {
   "cell_type": "code",
   "execution_count": null,
   "metadata": {},
   "outputs": [],
   "source": []
  },
  {
   "cell_type": "code",
   "execution_count": null,
   "metadata": {},
   "outputs": [],
   "source": [
    "Q1. What is the Probability density function?\n",
    "continuos random variable\n",
    "ex.height,weight,etc\n",
    "pdf are show how continous value are distribted over a continous range\n",
    "its help to understand the distribution of continouse random variable"
   ]
  },
  {
   "cell_type": "markdown",
   "metadata": {},
   "source": [
    "Q2. What are the types of Probability distribution?\n",
    "1.probability density function\n",
    "2.probability mass function\n",
    "3.cumulative distribution function\n",
    "\n",
    "a) normal gaussian distrubution\n",
    "b)bernouli distribution (pmf)\n",
    "c)uniform distributin (pmf)\n",
    "d) poission distribution (pmf)\n",
    "e) log normal distribution \n",
    "f) binomial distribution (pmf)\n"
   ]
  },
  {
   "cell_type": "code",
   "execution_count": 61,
   "metadata": {},
   "outputs": [],
   "source": [
    "\"\"\"Q3. Write a Python function to calculate the probability density function of a normal distribution with\n",
    "given mean and standard deviation at a given point.\"\"\"\n",
    "import numpy as np\n",
    "from scipy.stats import norm\n",
    "def normal_Distri(x,mean,std_dev):\n",
    "    return norm.pdf(x,loc=mean,scale=std_dev)"
   ]
  },
  {
   "cell_type": "code",
   "execution_count": 71,
   "metadata": {},
   "outputs": [
    {
     "data": {
      "text/plain": [
       "np.float64(1.2151765699646572e-08)"
      ]
     },
     "execution_count": 71,
     "metadata": {},
     "output_type": "execute_result"
    }
   ],
   "source": [
    "normal_Distri(2,5,0.5)"
   ]
  },
  {
   "cell_type": "markdown",
   "metadata": {},
   "source": [
    "Q4. What are the properties of Binomial distribution? Give two examples of events where binomial\n",
    "distribution can be applied.\n",
    "it is discrete random varaible\n",
    "independant trail\n",
    "only two possible outcomes fail or suceess\n",
    "trial does not affect outcomes\n",
    "example:\n",
    "1.quality control in manufacturing:suppose one factory produce 100 bulbs so probability for defective bulbs is 0.05 that time we used binomial distribution\n",
    "2.survey response yes or no\n",
    "\n"
   ]
  },
  {
   "cell_type": "markdown",
   "metadata": {},
   "source": []
  },
  {
   "cell_type": "code",
   "execution_count": 80,
   "metadata": {},
   "outputs": [],
   "source": [
    "\"\"\"Q5. Generate a random sample of size 1000 from a binomial distribution with probability of success 0.4\n",
    "and plot a histogram of the results using matplotlib.\"\"\"\n",
    "n=10\n",
    "p=0.4\n",
    "df=np.random.binomial(n,p,1000)"
   ]
  },
  {
   "cell_type": "code",
   "execution_count": 82,
   "metadata": {},
   "outputs": [
    {
     "data": {
      "text/plain": [
       "(array([  6.,  39., 143., 228.,   0., 228., 191., 106.,  50.,   9.]),\n",
       " array([0. , 0.8, 1.6, 2.4, 3.2, 4. , 4.8, 5.6, 6.4, 7.2, 8. ]),\n",
       " <BarContainer object of 10 artists>)"
      ]
     },
     "execution_count": 82,
     "metadata": {},
     "output_type": "execute_result"
    },
    {
     "data": {
      "image/png": "[encoded data removed]",
      "text/plain": [
       "<Figure size 640x480 with 1 Axes>"
      ]
     },
     "metadata": {},
     "output_type": "display_data"
    }
   ],
   "source": [
    "import matplotlib.pyplot as plt\n",
    "plt.hist(df)"
   ]
  },
  {
   "cell_type": "code",
   "execution_count": 83,
   "metadata": {},
   "outputs": [],
   "source": [
    "\"\"\"Q6. Write a Python function to calculate the cumulative distribution function of a Poisson distribution\n",
    "with given mean at a given point.\"\"\"\n",
    "from scipy.stats import poisson\n",
    "def poisssion_cdf(k,mean):\n",
    "    return poisson.cdf(k,mean)"
   ]
  },
  {
   "cell_type": "code",
   "execution_count": 85,
   "metadata": {},
   "outputs": [
    {
     "data": {
      "text/plain": [
       "np.float64(0.43347012036670896)"
      ]
     },
     "execution_count": 85,
     "metadata": {},
     "output_type": "execute_result"
    }
   ],
   "source": [
    "poisssion_cdf(3,4)"
   ]
  },
  {
   "cell_type": "markdown",
   "metadata": {},
   "source": [
    "Q7. How Binomial distribution different from Poisson distribution?\n",
    " binomial distrubution is discreate random variable and poission distrubution aslo discreate variable\n",
    " 1.binomial:\n",
    " every outcome is binary\n",
    " fix number trials n\n",
    " each trail is independant and binary\n",
    " ex.flipping coin 10 times and counting number of heads\n",
    " 2.poisson distribution:\n",
    " used for counting number of events occur in interval time\n",
    " mean and variance both equal at lambda\n",
    " ex.counting number of student comming in 12pm\n",
    "\n",
    "\n",
    "\n"
   ]
  },
  {
   "cell_type": "code",
   "execution_count": null,
   "metadata": {},
   "outputs": [],
   "source": [
    "\"\"\"Q8. Generate a random sample of size 1000 from a Poisson distribution with mean 5 and calculate the\n",
    "sample mean and variance.\"\"\"\n",
    "from scipy.stats import poisson\n"
   ]
  },
  {
   "cell_type": "code",
   "execution_count": null,
   "metadata": {},
   "outputs": [],
   "source": []
  },
  {
   "cell_type": "markdown",
   "metadata": {},
   "source": [
    "Q9. How mean and variance are related in Binomial distribution and Poisson distribution?\n",
    "Binomial Distribution\n",
    "for binomial distribution define by twwo parameters n(number of trial) and p(probability success each trial)\n",
    "mean(u):u=n*p\n",
    " variance=square of variance n×p×(1−p)\n",
    "\n",
    "poission distribution \n",
    "we define one parameters 𝜆\n",
    "mean=u=𝜆\n",
    "\n",
    "varience=σ \n",
    "2\n",
    " =λ"
   ]
  },
  {
   "cell_type": "markdown",
   "metadata": {},
   "source": [
    "Q10. In normal distribution with respect to mean position, where does the least frequent data appear?\n",
    "In a normal distribution, the data is symmetrically distributed around the mean, which is the peak of the distribution. The least frequent data points appear at the extremes of the distribution, specifically in the tails.\n",
    "\n",
    "Key Points about the Normal Distribution:\n",
    "Mean, Median, and Mode: In a perfectly normal distribution, the mean, median, and mode all coincide at the center of the distribution.\n",
    "\n"
   ]
  }
 ],
 "metadata": {
  "kernelspec": {
   "display_name": "Python 3",
   "language": "python",
   "name": "python3"
  },
  "language_info": {
   "codemirror_mode": {
    "name": "ipython",
    "version": 3
   },
   "file_extension": ".py",
   "mimetype": "text/x-python",
   "name": "python",
   "nbconvert_exporter": "python",
   "pygments_lexer": "ipython3",
   "version": "3.12.6"
  }
 },
 "nbformat": 4,
 "nbformat_minor": 2
}
